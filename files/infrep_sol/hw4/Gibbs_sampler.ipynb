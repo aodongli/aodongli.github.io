{
 "cells": [
  {
   "cell_type": "code",
   "execution_count": 1,
   "metadata": {
    "collapsed": true
   },
   "outputs": [],
   "source": [
    "import numpy as np\n",
    "import scipy as sp\n",
    "import matplotlib.pyplot as plt\n",
    "\n",
    "np.random.seed(123)\n",
    "\n",
    "# dictionary beta, n_tw\n",
    "\n",
    "FILE_NAME = './ps4_data/abstract_nips21_NIPS2008_0517.txt.ready'\n",
    "\n",
    "NUM_TOPIC = 0\n",
    "ALPHA = []\n",
    "BETA = {}\n",
    "dic_id = {}\n",
    "id_dic = {}\n",
    "doc = []\n",
    "count = {}\n",
    "\n",
    "def read_file(f):\n",
    "    with open(f, 'rb') as f_des:\n",
    "        line = f_des.readline()\n",
    "        NUM_TOPIC = int(line.replace('\\n', ''))\n",
    "\n",
    "        line = f_des.readline()\n",
    "        ALPHA = [float(i) for i in line.replace('\\n', '').split()]\n",
    "\n",
    "        BETA = {}\n",
    "        lines = f_des.readlines()\n",
    "\n",
    "        idx = 0\n",
    "        for line in lines:\n",
    "            line = line.replace('\\n', '').split()\n",
    "            word = line[0]\n",
    "            if word in dic_id.keys():  \n",
    "                count[dic_id[word]] += 1\n",
    "            else:\n",
    "                dic_id[word] = idx\n",
    "                id_dic[idx] = word\n",
    "                idx += 1\n",
    "                count[dic_id[word]] = 1\n",
    "                assert NUM_TOPIC == len(line[1:])\n",
    "                BETA[dic_id[word]] = [float(i) for i in line[1:]]\n",
    "\n",
    "            doc.append(dic_id[word])\n",
    "\n",
    "    return NUM_TOPIC, ALPHA, BETA, dic_id, id_dic, doc, count\n",
    "\n",
    "def collapsed_gibbs_sampler(iter, alpha, beta):\n",
    "    # iter: number of iterations\n",
    "    theta = np.random.dirichlet(alpha)\n",
    "    z = np.random.multinomial(len(doc), theta)\n",
    "\n",
    "    n_t = np.zeros(len(alpha))\n",
    "    n_tw = np.zeros([len(alpha), len(dic_id)])\n",
    "    for i in range(len(alpha)):\n",
    "        n_t[i] = np.sum(z == i)\n",
    "    for i in range(len(alpha)):\n",
    "        for j in id_dic:\n",
    "            n_tw[i][j] = np.sum(np.logical_and(doc == j, z == i))\n",
    "\n",
    "    res= {}\n",
    "    sample_order = np.arange(len(doc))\n",
    "    for ite in xrange(iter):\n",
    "        t_res = np.zeros(len(doc))\n",
    "        np.random.shuffle(sample_order)\n",
    "        for i in sample_order:\n",
    "            # p_val\n",
    "            p_val = np.zeros(len(alpha))\n",
    "            n_t[z[i]] -= 1\n",
    "            for k in range(len(alpha)):\n",
    "                p_val[k] = (n_t[k] + alpha[k]) * beta[doc[i]][k]\n",
    "            # print p_val\n",
    "            p_val[k] /= np.sum(p_val)\n",
    "            p_val = np.cumsum(p_val)\n",
    "            z_i = (p_val > np.random.uniform()).argmax() # z_i = np.random.multinomial(1, p_val)\n",
    "\n",
    "            n_t[z_i] += 1\n",
    "            t_res[i] = z_i\n",
    "        res[ite] = t_res\n",
    "    return res"
   ]
  },
  {
   "cell_type": "code",
   "execution_count": 2,
   "metadata": {},
   "outputs": [
    {
     "name": "stdout",
     "output_type": "stream",
     "text": [
      "65 65 65 83 65\n"
     ]
    }
   ],
   "source": [
    "NUM_TOPIC, ALPHA, BETA, dic_id, id_dic, doc, count = read_file(FILE_NAME)\n",
    "\n",
    "print len(BETA), len(dic_id), len(id_dic), len(doc), len(count)"
   ]
  },
  {
   "cell_type": "code",
   "execution_count": null,
   "metadata": {},
   "outputs": [],
   "source": [
    "ite = 1e4\n",
    "samples = collapsed_gibbs_sampler(int(ite), ALPHA, BETA)"
   ]
  },
  {
   "cell_type": "code",
   "execution_count": 5,
   "metadata": {},
   "outputs": [
    {
     "data": {
      "image/png": "[encoded data removed]",
      "text/plain": [
       "<matplotlib.figure.Figure at 0x105b29d90>"
      ]
     },
     "metadata": {},
     "output_type": "display_data"
    }
   ],
   "source": [
    "post_theta = np.zeros(len(ALPHA))\n",
    "for i in samples.keys()[50:]:\n",
    "    for j in range(len(doc)):\n",
    "        post_theta[int(samples[i][j])] += 1\n",
    "ite -= 50\n",
    "normalizer = ite * (np.sum(ALPHA) + len(doc))\n",
    "post_theta += ite * np.array(ALPHA)\n",
    "post_theta /= normalizer\n",
    "\n",
    "fig = plt.figure()\n",
    "ax = fig.add_subplot(111)\n",
    "ax.plot(post_theta)\n",
    "plt.show()"
   ]
  },
  {
   "cell_type": "code",
   "execution_count": 6,
   "metadata": {},
   "outputs": [
    {
     "data": {
      "text/plain": [
       "1.0"
      ]
     },
     "execution_count": 6,
     "metadata": {},
     "output_type": "execute_result"
    }
   ],
   "source": [
    "np.sum(post_theta)"
   ]
  },
  {
   "cell_type": "code",
   "execution_count": 10,
   "metadata": {},
   "outputs": [
    {
     "data": {
      "text/plain": [
       "14"
      ]
     },
     "execution_count": 10,
     "metadata": {},
     "output_type": "execute_result"
    }
   ],
   "source": [
    "def square_error(l1, l2):\n",
    "    assert len(l1) == len(l2)\n",
    "    res = 0\n",
    "    for i in range(len(l1)):\n",
    "        res += (l1[i] - l2[i]) ** 2\n",
    "    return res\n",
    "l1 = [1,2,3]\n",
    "l2 = [0,0,0]\n",
    "square_error(l1, l2)"
   ]
  },
  {
   "cell_type": "code",
   "execution_count": 24,
   "metadata": {},
   "outputs": [],
   "source": [
    "def comp_dist(samples):\n",
    "    res = {}\n",
    "    t_res = np.zeros(len(ALPHA))\n",
    "    for i in samples.keys()[50:]:\n",
    "        for j in range(len(doc)):\n",
    "            t_res[int(samples[i][j])] += 1\n",
    "        ite = i - 49\n",
    "        normalizer = ite * (np.sum(ALPHA) + len(doc))\n",
    "        post_theta = t_res + ite * np.array(ALPHA)\n",
    "        post_theta /= normalizer\n",
    "        assert np.abs(np.sum(post_theta) - 1.0) < 1e-6\n",
    "        res[i] = post_theta\n",
    "    return res\n",
    "sample_theta = comp_dist(samples)"
   ]
  },
  {
   "cell_type": "code",
   "execution_count": 29,
   "metadata": {},
   "outputs": [
    {
     "data": {
      "image/png": "[encoded data removed]",
      "text/plain": [
       "<matplotlib.figure.Figure at 0x108190990>"
      ]
     },
     "metadata": {},
     "output_type": "display_data"
    }
   ],
   "source": [
    "sq_err = []\n",
    "for i in sample_theta.keys():\n",
    "    sq_err.append(square_error(sample_theta[i], post_theta))\n",
    "\n",
    "fig = plt.figure()\n",
    "ax = fig.add_subplot(111)\n",
    "ax.plot(sq_err)\n",
    "plt.title('error of collapsed gibbs sampler')\n",
    "plt.show()"
   ]
  },
  {
   "cell_type": "code",
   "execution_count": 50,
   "metadata": {
    "collapsed": true
   },
   "outputs": [],
   "source": [
    "def gibbs_sampler(iter, alpha, beta):\n",
    "    theta = np.random.dirichlet(alpha)\n",
    "    res, res_theta = {}, {}\n",
    "    sample_order = np.arange(len(doc))\n",
    "    for ite in xrange(iter):\n",
    "        n_t = np.zeros(len(alpha))\n",
    "        np.random.shuffle(sample_order)\n",
    "        for i in sample_order:\n",
    "            # post of z\n",
    "            p_val = np.zeros(len(alpha))\n",
    "            for k in range(len(alpha)):\n",
    "                p_val[k] = theta[k] * beta[doc[i]][k]\n",
    "            # sample z\n",
    "            p_val[k] /= np.sum(p_val)\n",
    "            p_val = np.cumsum(p_val)\n",
    "            z_i = (p_val > np.random.uniform()).argmax() # z_i = np.random.multinomial(1, p_val)\n",
    "\n",
    "            n_t[z_i] += 1\n",
    "        res[ite] = n_t + alpha\n",
    "        theta = np.random.dirichlet(res[ite])\n",
    "        res_theta[ite] = theta\n",
    "    return res, res_theta\n",
    "\n",
    "ite = 1e4\n",
    "g_samples, g_theta = gibbs_sampler(int(ite), ALPHA, BETA)"
   ]
  },
  {
   "cell_type": "code",
   "execution_count": 46,
   "metadata": {},
   "outputs": [],
   "source": [
    "g_dist = {}\n",
    "sum_dist = np.zeros(len(ALPHA))\n",
    "for i in g_samples.keys()[50:]:\n",
    "    ite = i - 49\n",
    "    sum_dist += g_samples[i] / np.sum(g_samples[i])\n",
    "    g_dist[i] = sum_dist / ite"
   ]
  },
  {
   "cell_type": "code",
   "execution_count": 47,
   "metadata": {},
   "outputs": [
    {
     "data": {
      "image/png": "[encoded data removed]",
      "text/plain": [
       "<matplotlib.figure.Figure at 0x108a33c50>"
      ]
     },
     "metadata": {},
     "output_type": "display_data"
    }
   ],
   "source": [
    "sq_err = []\n",
    "for i in g_dist.keys():\n",
    "    sq_err.append(square_error(g_dist[i], post_theta))\n",
    "\n",
    "fig = plt.figure()\n",
    "ax = fig.add_subplot(111)\n",
    "ax.plot(sq_err)\n",
    "plt.title('error of gibbs sampler')\n",
    "plt.show()"
   ]
  },
  {
   "cell_type": "code",
   "execution_count": 48,
   "metadata": {},
   "outputs": [
    {
     "data": {
      "image/png": "[encoded data removed]",
      "text/plain": [
       "<matplotlib.figure.Figure at 0x108aed4d0>"
      ]
     },
     "metadata": {},
     "output_type": "display_data"
    }
   ],
   "source": [
    "fig = plt.figure()\n",
    "ax = fig.add_subplot(111)\n",
    "ax.plot(g_dist[50])\n",
    "plt.show()"
   ]
  },
  {
   "cell_type": "code",
   "execution_count": 49,
   "metadata": {},
   "outputs": [
    {
     "data": {
      "text/plain": [
       "1.0000000000000002"
      ]
     },
     "execution_count": 49,
     "metadata": {},
     "output_type": "execute_result"
    }
   ],
   "source": [
    "np.sum(g_dist[50])"
   ]
  },
  {
   "cell_type": "code",
   "execution_count": null,
   "metadata": {
    "collapsed": true
   },
   "outputs": [],
   "source": []
  }
 ],
 "metadata": {
  "kernelspec": {
   "display_name": "Python 2",
   "language": "python",
   "name": "python2"
  },
  "language_info": {
   "codemirror_mode": {
    "name": "ipython",
    "version": 2
   },
   "file_extension": ".py",
   "mimetype": "text/x-python",
   "name": "python",
   "nbconvert_exporter": "python",
   "pygments_lexer": "ipython2",
   "version": "2.7.13"
  }
 },
 "nbformat": 4,
 "nbformat_minor": 2
}
