{
 "cells": [
  {
   "cell_type": "code",
   "execution_count": 16,
   "metadata": {},
   "outputs": [],
   "source": [
    "import numpy as np\n",
    "\n",
    "DATA_FOLDER = './data/'\n",
    "NUM_INSTANCE = 4367\n",
    "NUM_OBJ = 111\n",
    "NUM_STATE = 2\n",
    "\n",
    "data_file = open(DATA_FOLDER + 'chowliu-input.txt', 'rb')\n",
    "\n",
    "D = np.zeros((NUM_INSTANCE, NUM_OBJ)) # data matrix\n",
    "for i, line in enumerate(data_file.readlines()):\n",
    "    line = line.replace('\\n', '')\n",
    "    line = line.split()\n",
    "    assert len(line) == NUM_OBJ\n",
    "    for j, w in enumerate(line):\n",
    "        D[i][j] = float(w)\n",
    "\n",
    "data_file.close()"
   ]
  },
  {
   "cell_type": "code",
   "execution_count": 17,
   "metadata": {},
   "outputs": [
    {
     "data": {
      "text/plain": [
       "(4367, 111)"
      ]
     },
     "execution_count": 17,
     "metadata": {},
     "output_type": "execute_result"
    }
   ],
   "source": [
    "np.shape(D)"
   ]
  },
  {
   "cell_type": "code",
   "execution_count": 18,
   "metadata": {
    "collapsed": true
   },
   "outputs": [],
   "source": [
    "P_single = np.zeros((NUM_OBJ, NUM_STATE))\n",
    "P_single[:, 1] = np.sum(D, axis=0) / NUM_INSTANCE\n",
    "P_single[:, 0] = 1 - P_single[:, 1]"
   ]
  },
  {
   "cell_type": "code",
   "execution_count": 19,
   "metadata": {},
   "outputs": [
    {
     "name": "stdout",
     "output_type": "stream",
     "text": [
      "[0.99175635 0.00824365]\n",
      "[0.97939089 0.02060911]\n"
     ]
    }
   ],
   "source": [
    "print(P_single[0])\n",
    "print(P_single[2])"
   ]
  },
  {
   "cell_type": "code",
   "execution_count": 20,
   "metadata": {
    "collapsed": true
   },
   "outputs": [],
   "source": [
    "def mutual_info(joint_dist, u, v):\n",
    "    res = 0.0\n",
    "    n = len(joint_dist)\n",
    "    for i in range(n):\n",
    "        for j in range(n):\n",
    "            if joint_dist[i][j] > 0.0:\n",
    "                res += joint_dist[i][j] * (np.log(joint_dist[i][j]) - \n",
    "                        np.log(P_single[u][i]) - np.log(P_single[v][j]))\n",
    "    return res"
   ]
  },
  {
   "cell_type": "code",
   "execution_count": 21,
   "metadata": {
    "collapsed": true
   },
   "outputs": [],
   "source": [
    "A = np.zeros((NUM_OBJ, NUM_OBJ)) # adjacent matrix\n",
    "for i in range(NUM_OBJ):\n",
    "    for j in range(NUM_OBJ - i - 1):\n",
    "        k = j + i + 1\n",
    "\n",
    "        # process A[i][k]      \n",
    "        cnt = np.zeros((NUM_STATE, NUM_STATE))\n",
    "        for sample in range(NUM_INSTANCE):\n",
    "            cnt[int(D[sample][i])][int(D[sample][k])] += 1\n",
    "\n",
    "        assert np.sum(cnt) == NUM_INSTANCE\n",
    "        \n",
    "        # joint distribution for X_i, X_k\n",
    "        cnt /= NUM_INSTANCE\n",
    "\n",
    "        A[k][i] = A[i][k] = mutual_info(cnt, i, k)"
   ]
  },
  {
   "cell_type": "code",
   "execution_count": 22,
   "metadata": {
    "scrolled": true
   },
   "outputs": [
    {
     "name": "stdout",
     "output_type": "stream",
     "text": [
      "0.0001723883503887336\n",
      "0.0001723883503887336\n"
     ]
    }
   ],
   "source": [
    "print(A[0][2])\n",
    "print(A[2][0])"
   ]
  },
  {
   "cell_type": "code",
   "execution_count": 23,
   "metadata": {
    "collapsed": true
   },
   "outputs": [],
   "source": [
    "# prim - minimum spanning tree\n",
    "# Tim Wilson, 2-25-2002\n",
    "\n",
    "#A = adjacency matrix, u = vertex u, v = vertex v\n",
    "def weight(A, u, v):\n",
    "    return A[u][v]\n",
    "\n",
    "#A = adjacency matrix, u = vertex u\n",
    "def adjacent(A, u):\n",
    "    L = []\n",
    "    for x in range(len(A)):\n",
    "        if A[u][x] > 0 and x <> u:\n",
    "            L.insert(0,x)\n",
    "    return L\n",
    "\n",
    "#Q = max queue\n",
    "def extractMax(Q):\n",
    "    q = Q[0]\n",
    "    Q.remove(Q[0])\n",
    "    return q\n",
    "\n",
    "#Q = max queue, V = vertex list\n",
    "def increaseKey(Q, K):\n",
    "    for i in range(len(Q)):\n",
    "        for j in range(len(Q)):\n",
    "            if K[Q[i]] > K[Q[j]]:\n",
    "                s = Q[i]\n",
    "                Q[i] = Q[j]\n",
    "                Q[j] = s\n",
    "\n",
    "#V = vertex list, A = adjacency list, r = root\n",
    "def prim(V, A, r):\n",
    "    u = 0\n",
    "    v = 0\n",
    "\n",
    "    # initialize and set each value of the array P (pi) to none\n",
    "    # pi holds the parent of u, so P(v)=u means u is the parent of v\n",
    "    P=[None]*len(V)\n",
    "\n",
    "    # initialize and set each value of the array K (key) to zero\n",
    "    K = [0]*len(V)\n",
    "\n",
    "    # initialize the max queue and fill it with all vertices in V\n",
    "    Q=[0]*len(V)\n",
    "    for u in range(len(Q)):\n",
    "        Q[u] = V[u]\n",
    "\n",
    "    # set the key of the root to 0\n",
    "    K[r] = 9999999\n",
    "    increaseKey(Q, K)    # maintain the max queue\n",
    "\n",
    "    # loop while the min queue is not empty\n",
    "    while len(Q) > 0:\n",
    "        u = extractMax(Q)    # pop the first vertex off the max queue\n",
    "\n",
    "        # loop through the vertices adjacent to u\n",
    "        Adj = adjacent(A, u)\n",
    "        for v in Adj:\n",
    "            w = weight(A, u, v)    # get the weight of the edge uv\n",
    "\n",
    "            # proceed if v is in Q and the weight of uv is greater than v's key\n",
    "            if Q.count(v) > 0 and w > K[v]:\n",
    "                # set v's parent to u\n",
    "                P[v] = u\n",
    "                # v's key to the weight of uv\n",
    "                K[v] = w\n",
    "                increaseKey(Q, K)    # maintain the min queue\n",
    "    return P"
   ]
  },
  {
   "cell_type": "code",
   "execution_count": 24,
   "metadata": {},
   "outputs": [],
   "source": [
    "V = range(NUM_OBJ)\n",
    "P = prim(V, A, 85)"
   ]
  },
  {
   "cell_type": "code",
   "execution_count": 25,
   "metadata": {},
   "outputs": [
    {
     "data": {
      "text/plain": [
       "[72,\n",
       " 46,\n",
       " 20,\n",
       " 85,\n",
       " 20,\n",
       " 85,\n",
       " 40,\n",
       " 85,\n",
       " 108,\n",
       " 66,\n",
       " 78,\n",
       " 13,\n",
       " 13,\n",
       " 46,\n",
       " 85,\n",
       " 14,\n",
       " 22,\n",
       " 80,\n",
       " 17,\n",
       " 82,\n",
       " 46,\n",
       " 72,\n",
       " 32,\n",
       " 47,\n",
       " 72,\n",
       " 24,\n",
       " 46,\n",
       " 46,\n",
       " 36,\n",
       " 85,\n",
       " 85,\n",
       " 85,\n",
       " 84,\n",
       " 93,\n",
       " 108,\n",
       " 8,\n",
       " 26,\n",
       " 65,\n",
       " 93,\n",
       " 20,\n",
       " 110,\n",
       " 22,\n",
       " 108,\n",
       " 102,\n",
       " 85,\n",
       " 1,\n",
       " 85,\n",
       " 106,\n",
       " 95,\n",
       " 85,\n",
       " 102,\n",
       " 46,\n",
       " 40,\n",
       " 50,\n",
       " 0,\n",
       " 93,\n",
       " 108,\n",
       " 85,\n",
       " 85,\n",
       " 93,\n",
       " 50,\n",
       " 88,\n",
       " 108,\n",
       " 8,\n",
       " 102,\n",
       " 16,\n",
       " 83,\n",
       " 72,\n",
       " 64,\n",
       " 40,\n",
       " 33,\n",
       " 46,\n",
       " 20,\n",
       " 74,\n",
       " 108,\n",
       " 46,\n",
       " 78,\n",
       " 36,\n",
       " 46,\n",
       " 108,\n",
       " 85,\n",
       " 85,\n",
       " 85,\n",
       " 72,\n",
       " 108,\n",
       " None,\n",
       " 1,\n",
       " 52,\n",
       " 85,\n",
       " 20,\n",
       " 46,\n",
       " 90,\n",
       " 46,\n",
       " 84,\n",
       " 72,\n",
       " 26,\n",
       " 46,\n",
       " 24,\n",
       " 84,\n",
       " 84,\n",
       " 20,\n",
       " 14,\n",
       " 46,\n",
       " 72,\n",
       " 20,\n",
       " 24,\n",
       " 46,\n",
       " 80,\n",
       " 46,\n",
       " 46,\n",
       " 58]"
      ]
     },
     "execution_count": 25,
     "metadata": {},
     "output_type": "execute_result"
    }
   ],
   "source": [
    "P"
   ]
  },
  {
   "cell_type": "code",
   "execution_count": null,
   "metadata": {
    "collapsed": true
   },
   "outputs": [],
   "source": []
  }
 ],
 "metadata": {
  "kernelspec": {
   "display_name": "Python 2",
   "language": "python",
   "name": "python2"
  },
  "language_info": {
   "codemirror_mode": {
    "name": "ipython",
    "version": 2
   },
   "file_extension": ".py",
   "mimetype": "text/x-python",
   "name": "python",
   "nbconvert_exporter": "python",
   "pygments_lexer": "ipython2",
   "version": "2.7.13"
  }
 },
 "nbformat": 4,
 "nbformat_minor": 2
}
